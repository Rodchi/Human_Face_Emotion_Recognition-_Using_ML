{
  "nbformat": 4,
  "nbformat_minor": 0,
  "metadata": {
    "colab": {
      "name": "Emotion Detection.ipynb",
      "provenance": [],
      "collapsed_sections": []
    },
    "kernelspec": {
      "name": "python3",
      "display_name": "Python 3"
    },
    "language_info": {
      "name": "python"
    },
    "accelerator": "GPU"
  },
  "cells": [
    {
      "cell_type": "code",
      "metadata": {
        "id": "yFvJsunb937D"
      },
      "source": [
        "import pandas as pd\n",
        "import numpy as np\n",
        "import matplotlib.pyplot as plt\n",
        "from keras.models import Sequential\n",
        "from keras.layers.core import Flatten,Dense,Dropout\n",
        "from keras.layers.convolutional import Convolution2D,MaxPooling2D,ZeroPadding2D\n",
        "from keras.optimizers import SGD\n",
        "import cv2"
      ],
      "execution_count": null,
      "outputs": []
    },
    {
      "cell_type": "code",
      "metadata": {
        "id": "3Ra1pwZkBOx8"
      },
      "source": [
        "!tar -xf /content/drive/My\\ Drive/fer2013.tar.gz"
      ],
      "execution_count": null,
      "outputs": []
    },
    {
      "cell_type": "code",
      "metadata": {
        "colab": {
          "base_uri": "https://localhost:8080/"
        },
        "id": "MZ5jzIdGAphm",
        "outputId": "23dfc18d-d834-4f5e-dba4-7459347f5bfe"
      },
      "source": [
        "from google.colab import drive\n",
        "drive.mount('/content/drive')\n"
      ],
      "execution_count": null,
      "outputs": [
        {
          "output_type": "stream",
          "text": [
            "Drive already mounted at /content/drive; to attempt to forcibly remount, call drive.mount(\"/content/drive\", force_remount=True).\n"
          ],
          "name": "stdout"
        }
      ]
    },
    {
      "cell_type": "code",
      "metadata": {
        "colab": {
          "base_uri": "https://localhost:8080/"
        },
        "id": "Ae06fRZ5BJd1",
        "outputId": "0c9f19db-a3c1-40d5-a9f1-b48f6b3da3f8"
      },
      "source": [
        "#PARAMETERS\n",
        "X_train,train_y,X_test,test_y = [], [], [],[]\n",
        "print(\"ready\")"
      ],
      "execution_count": null,
      "outputs": [
        {
          "output_type": "stream",
          "text": [
            "ready\n"
          ],
          "name": "stdout"
        }
      ]
    },
    {
      "cell_type": "code",
      "metadata": {
        "colab": {
          "base_uri": "https://localhost:8080/"
        },
        "id": "D15bwvZrB9Ol",
        "outputId": "f69d997a-5252-4a5d-edbf-eb81703181a6"
      },
      "source": [
        "df = pd.read_csv(\"/content/fer2013/fer2013.csv\")\n",
        "print(\"ready\")"
      ],
      "execution_count": null,
      "outputs": [
        {
          "output_type": "stream",
          "text": [
            "ready\n"
          ],
          "name": "stdout"
        }
      ]
    },
    {
      "cell_type": "code",
      "metadata": {
        "colab": {
          "base_uri": "https://localhost:8080/"
        },
        "id": "WrsGT7b-DMjd",
        "outputId": "8c5d3152-dac5-47e6-ed04-650a095c372b"
      },
      "source": [
        "for index, row in df.iterrows():\n",
        "  val=row['pixels'].split(\" \")\n",
        "  try:\n",
        "    if \"Training\" in row[\"Usage\"]:\n",
        "      X_train.append(np.array(val,\"float32\"))\n",
        "      train_y.append(row[\"emotion\"])\n",
        "    elif \"PublicTest\" in row[\"Usage\"]:\n",
        "        X_test.append(np.array(val,\"float32\"))\n",
        "        test_y.append(row[\"emotion\"])\n",
        "  except:\n",
        "    print(f\"error ocurred at index :{index} and row:{row}\")\n",
        "#X_train.size\n",
        "#print(f\"X train is :{X_train.size} samples\")\n",
        "print(f\"X_Train size is :{len(X_train)}\")\n",
        "print(f\"train_y size is :{len(train_y)}\")\n",
        "print(f\"X_Test size is :{len(X_test)}\")\n",
        "print(f\"test_y size is :{len(test_y)}\")\n",
        "print(\"ready\")"
      ],
      "execution_count": null,
      "outputs": [
        {
          "output_type": "stream",
          "text": [
            "X_Train size is :28709\n",
            "train_y size is :28709\n",
            "X_Test size is :3589\n",
            "test_y size is :3589\n",
            "ready\n"
          ],
          "name": "stdout"
        }
      ]
    },
    {
      "cell_type": "code",
      "metadata": {
        "colab": {
          "base_uri": "https://localhost:8080/"
        },
        "id": "UnNT_T8a9SIv",
        "outputId": "2663bbfa-4df6-48dc-fa7e-bde5add5fa1a"
      },
      "source": [
        "num_features=64\n",
        "num_labels=7\n",
        "batch_size =64\n",
        "epochs =100\n",
        "width, heigth = 48,48\n",
        "print(\"ready\")"
      ],
      "execution_count": null,
      "outputs": [
        {
          "output_type": "stream",
          "text": [
            "ready\n"
          ],
          "name": "stdout"
        }
      ]
    },
    {
      "cell_type": "code",
      "metadata": {
        "colab": {
          "base_uri": "https://localhost:8080/"
        },
        "id": "DBjzRDQF9xkC",
        "outputId": "9e3d465b-81f5-4ff3-eac1-87777a0b9214"
      },
      "source": [
        "X_train = np.array(X_train, 'float32')\n",
        "train_y = np.array(train_y, 'float32')\n",
        "\n",
        "X_test = np.array(X_test, 'float32')\n",
        "test_y = np.array(test_y, 'float32')\n",
        "print(\"ready\")"
      ],
      "execution_count": null,
      "outputs": [
        {
          "output_type": "stream",
          "text": [
            "ready\n"
          ],
          "name": "stdout"
        }
      ]
    },
    {
      "cell_type": "code",
      "metadata": {
        "id": "ujQJr6Mo95LN"
      },
      "source": [
        "from keras.utils.np_utils import to_categorical"
      ],
      "execution_count": null,
      "outputs": []
    },
    {
      "cell_type": "code",
      "metadata": {
        "colab": {
          "base_uri": "https://localhost:8080/"
        },
        "id": "cw6X2tJd95ID",
        "outputId": "a988eb23-7162-4e04-b202-0a4196cba97b"
      },
      "source": [
        "train_y = to_categorical(train_y,num_classes=num_labels)\n",
        "test_y = to_categorical(test_y, num_classes=num_labels)\n",
        "print(\"ready\")"
      ],
      "execution_count": null,
      "outputs": [
        {
          "output_type": "stream",
          "text": [
            "ready\n"
          ],
          "name": "stdout"
        }
      ]
    },
    {
      "cell_type": "code",
      "metadata": {
        "colab": {
          "base_uri": "https://localhost:8080/"
        },
        "id": "-zdgDNwE95Cb",
        "outputId": "90f8bf05-699b-42c6-eb2a-c825e91f29a8"
      },
      "source": [
        "X_train -= np.mean(X_train, axis=0)\n",
        "X_train /= np.std(X_train, axis=0)\n",
        "\n",
        "X_test -= np.mean(X_test, axis=0)\n",
        "X_test /= np.std(X_test, axis=0)\n",
        "\n",
        "X_train = X_train.reshape(X_train.shape[0],48,48,1)\n",
        "\n",
        "X_test = X_test.reshape(X_test.shape[0],48,48,1)\n",
        "\n",
        "print(\"ready\")"
      ],
      "execution_count": null,
      "outputs": [
        {
          "output_type": "stream",
          "text": [
            "ready\n"
          ],
          "name": "stdout"
        }
      ]
    },
    {
      "cell_type": "code",
      "metadata": {
        "colab": {
          "base_uri": "https://localhost:8080/"
        },
        "id": "-cLKV8rA9yZ9",
        "outputId": "c9e557f8-a179-479f-e7e1-c6dac0081d53"
      },
      "source": [
        "from tensorflow.keras.layers import Dense,Conv2D,Flatten,Dropout,MaxPooling2D,Activation\n",
        "from tensorflow.keras.preprocessing import image\n",
        "import matplotlib.pyplot as plt\n",
        "from tensorflow.keras.losses import categorical_crossentropy\n",
        "from tensorflow.keras import layers\n",
        "from tensorflow import keras\n",
        "print(\"ready\")\n"
      ],
      "execution_count": null,
      "outputs": [
        {
          "output_type": "stream",
          "text": [
            "ready\n"
          ],
          "name": "stdout"
        }
      ]
    },
    {
      "cell_type": "code",
      "metadata": {
        "colab": {
          "base_uri": "https://localhost:8080/"
        },
        "id": "1FDyL-P49yM9",
        "outputId": "a69f2780-cb80-4628-b906-f57e7c345d92"
      },
      "source": [
        "model = Sequential()\n",
        "model.add(Conv2D(64, kernel_size=(3,3), activation='relu',input_shape=(X_train.shape[1:])))\n",
        "model.add(Conv2D(64,kernel_size=(3,3), activation='relu'))\n",
        "model.add(MaxPooling2D(pool_size=(2,2),strides=(2,2)))\n",
        "model.add(Dropout(0.5))\n",
        "\n",
        "#2nd convolution layer+\n",
        "model.add(Conv2D(64,kernel_size=(3,3), activation='relu'))\n",
        "model.add(Conv2D(64,kernel_size=(3,3), activation='relu'))\n",
        "\n",
        "model.add(MaxPooling2D(pool_size=(2,2),strides=(2,2)))\n",
        "model.add(Dropout(0.5))\n",
        "\n",
        "\n",
        "\n",
        "#3rd convolution layer\n",
        "model.add(Conv2D(128,kernel_size=(3,3), activation='relu'))\n",
        "model.add(Conv2D(128,kernel_size=(3,3), activation='relu'))\n",
        "model.add(MaxPooling2D(pool_size=(2,2),strides=(2,2)))\n",
        "\n",
        "model.add(Flatten())\n",
        "\n",
        "#fully connected neural network\n",
        "\n",
        "model.add(Dense(1024,activation='relu'))\n",
        "model.add(Dropout(0.2))\n",
        "model.add(Dense(1024,activation='relu'))\n",
        "model.add(Dropout(0.2))\n",
        "\n",
        "model.add(Dense(num_labels,activation=\"softmax\"))\n",
        "\n",
        "#model.summary()\n",
        "print(\"ready\")\n"
      ],
      "execution_count": null,
      "outputs": [
        {
          "output_type": "stream",
          "text": [
            "ready\n"
          ],
          "name": "stdout"
        }
      ]
    },
    {
      "cell_type": "code",
      "metadata": {
        "id": "G3N3EyC39yKF"
      },
      "source": [
        "model.compile(loss=categorical_crossentropy,\n",
        "              optimizer ='sgd',\n",
        "              metrics=['accuracy'])"
      ],
      "execution_count": null,
      "outputs": []
    },
    {
      "cell_type": "code",
      "metadata": {
        "id": "2lVRzdWwTpa_"
      },
      "source": [
        ""
      ],
      "execution_count": null,
      "outputs": []
    },
    {
      "cell_type": "code",
      "metadata": {
        "id": "uaha5kL_J6xZ"
      },
      "source": [
        ""
      ],
      "execution_count": null,
      "outputs": []
    },
    {
      "cell_type": "code",
      "metadata": {
        "colab": {
          "base_uri": "https://localhost:8080/"
        },
        "id": "6z6QN6eVGoNC",
        "outputId": "f56b3cfd-0875-475c-97af-b0216c8654ba"
      },
      "source": [
        "history= model.fit(X_train,train_y,\n",
        "          batch_size=batch_size,\n",
        "          epochs=epochs,\n",
        "          verbose=1,\n",
        "          validation_data=(X_test,test_y),\n",
        "          shuffle=True)"
      ],
      "execution_count": null,
      "outputs": [
        {
          "output_type": "stream",
          "text": [
            "Epoch 1/100\n",
            "449/449 [==============================] - 19s 43ms/step - loss: 1.7948 - accuracy: 0.2493 - val_loss: 1.7968 - val_accuracy: 0.2508\n",
            "Epoch 2/100\n",
            "449/449 [==============================] - 19s 41ms/step - loss: 1.7822 - accuracy: 0.2549 - val_loss: 1.7835 - val_accuracy: 0.2508\n",
            "Epoch 3/100\n",
            "449/449 [==============================] - 18s 41ms/step - loss: 1.7711 - accuracy: 0.2601 - val_loss: 1.7844 - val_accuracy: 0.2552\n",
            "Epoch 4/100\n",
            "449/449 [==============================] - 18s 40ms/step - loss: 1.7565 - accuracy: 0.2760 - val_loss: 1.7524 - val_accuracy: 0.2756\n",
            "Epoch 5/100\n",
            "449/449 [==============================] - 18s 40ms/step - loss: 1.7325 - accuracy: 0.2966 - val_loss: 1.7036 - val_accuracy: 0.3065\n",
            "Epoch 6/100\n",
            "449/449 [==============================] - 18s 41ms/step - loss: 1.7007 - accuracy: 0.3205 - val_loss: 1.6805 - val_accuracy: 0.3171\n",
            "Epoch 7/100\n",
            "449/449 [==============================] - 18s 40ms/step - loss: 1.6741 - accuracy: 0.3354 - val_loss: 1.6530 - val_accuracy: 0.3366\n",
            "Epoch 8/100\n",
            "449/449 [==============================] - 18s 40ms/step - loss: 1.6553 - accuracy: 0.3457 - val_loss: 1.6372 - val_accuracy: 0.3547\n",
            "Epoch 9/100\n",
            "449/449 [==============================] - 18s 40ms/step - loss: 1.6418 - accuracy: 0.3511 - val_loss: 1.6188 - val_accuracy: 0.3558\n",
            "Epoch 10/100\n",
            "449/449 [==============================] - 18s 41ms/step - loss: 1.6216 - accuracy: 0.3631 - val_loss: 1.6011 - val_accuracy: 0.3670\n",
            "Epoch 11/100\n",
            "449/449 [==============================] - 18s 40ms/step - loss: 1.6062 - accuracy: 0.3693 - val_loss: 1.5732 - val_accuracy: 0.3761\n",
            "Epoch 12/100\n",
            "449/449 [==============================] - 18s 40ms/step - loss: 1.5894 - accuracy: 0.3781 - val_loss: 1.5683 - val_accuracy: 0.3814\n",
            "Epoch 13/100\n",
            "449/449 [==============================] - 18s 40ms/step - loss: 1.5711 - accuracy: 0.3847 - val_loss: 1.5413 - val_accuracy: 0.3915\n",
            "Epoch 14/100\n",
            "449/449 [==============================] - 18s 40ms/step - loss: 1.5590 - accuracy: 0.3922 - val_loss: 1.5397 - val_accuracy: 0.3962\n",
            "Epoch 15/100\n",
            "449/449 [==============================] - 18s 40ms/step - loss: 1.5483 - accuracy: 0.3949 - val_loss: 1.5046 - val_accuracy: 0.4202\n",
            "Epoch 16/100\n",
            "449/449 [==============================] - 18s 40ms/step - loss: 1.5290 - accuracy: 0.4075 - val_loss: 1.4925 - val_accuracy: 0.4168\n",
            "Epoch 17/100\n",
            "449/449 [==============================] - 19s 41ms/step - loss: 1.5132 - accuracy: 0.4149 - val_loss: 1.4911 - val_accuracy: 0.4143\n",
            "Epoch 18/100\n",
            "449/449 [==============================] - 19s 42ms/step - loss: 1.4992 - accuracy: 0.4167 - val_loss: 1.4653 - val_accuracy: 0.4452\n",
            "Epoch 19/100\n",
            "449/449 [==============================] - 18s 40ms/step - loss: 1.4842 - accuracy: 0.4280 - val_loss: 1.4548 - val_accuracy: 0.4333\n",
            "Epoch 20/100\n",
            "449/449 [==============================] - 18s 40ms/step - loss: 1.4698 - accuracy: 0.4302 - val_loss: 1.4353 - val_accuracy: 0.4452\n",
            "Epoch 21/100\n",
            "449/449 [==============================] - 18s 40ms/step - loss: 1.4554 - accuracy: 0.4390 - val_loss: 1.4233 - val_accuracy: 0.4581\n",
            "Epoch 22/100\n",
            "449/449 [==============================] - 18s 40ms/step - loss: 1.4411 - accuracy: 0.4461 - val_loss: 1.4211 - val_accuracy: 0.4478\n",
            "Epoch 23/100\n",
            "449/449 [==============================] - 18s 40ms/step - loss: 1.4286 - accuracy: 0.4501 - val_loss: 1.4097 - val_accuracy: 0.4517\n",
            "Epoch 24/100\n",
            "449/449 [==============================] - 19s 41ms/step - loss: 1.4125 - accuracy: 0.4564 - val_loss: 1.3763 - val_accuracy: 0.4712\n",
            "Epoch 25/100\n",
            "449/449 [==============================] - 18s 40ms/step - loss: 1.4008 - accuracy: 0.4620 - val_loss: 1.3677 - val_accuracy: 0.4759\n",
            "Epoch 26/100\n",
            "449/449 [==============================] - 18s 40ms/step - loss: 1.3894 - accuracy: 0.4663 - val_loss: 1.3931 - val_accuracy: 0.4553\n",
            "Epoch 27/100\n",
            "449/449 [==============================] - 18s 40ms/step - loss: 1.3742 - accuracy: 0.4741 - val_loss: 1.3548 - val_accuracy: 0.4778\n",
            "Epoch 28/100\n",
            "449/449 [==============================] - 18s 40ms/step - loss: 1.3629 - accuracy: 0.4758 - val_loss: 1.3320 - val_accuracy: 0.4898\n",
            "Epoch 29/100\n",
            "449/449 [==============================] - 19s 41ms/step - loss: 1.3478 - accuracy: 0.4841 - val_loss: 1.3394 - val_accuracy: 0.4759\n",
            "Epoch 30/100\n",
            "449/449 [==============================] - 19s 41ms/step - loss: 1.3363 - accuracy: 0.4878 - val_loss: 1.3287 - val_accuracy: 0.4918\n",
            "Epoch 31/100\n",
            "449/449 [==============================] - 18s 40ms/step - loss: 1.3279 - accuracy: 0.4927 - val_loss: 1.3157 - val_accuracy: 0.4915\n",
            "Epoch 32/100\n",
            "449/449 [==============================] - 18s 40ms/step - loss: 1.3093 - accuracy: 0.4983 - val_loss: 1.3138 - val_accuracy: 0.5026\n",
            "Epoch 33/100\n",
            "449/449 [==============================] - 18s 40ms/step - loss: 1.2995 - accuracy: 0.5010 - val_loss: 1.2984 - val_accuracy: 0.4965\n",
            "Epoch 34/100\n",
            "449/449 [==============================] - 18s 40ms/step - loss: 1.2917 - accuracy: 0.5090 - val_loss: 1.3174 - val_accuracy: 0.4943\n",
            "Epoch 35/100\n",
            "449/449 [==============================] - 18s 40ms/step - loss: 1.2783 - accuracy: 0.5113 - val_loss: 1.2734 - val_accuracy: 0.5110\n",
            "Epoch 36/100\n",
            "449/449 [==============================] - 18s 40ms/step - loss: 1.2689 - accuracy: 0.5151 - val_loss: 1.2619 - val_accuracy: 0.5163\n",
            "Epoch 37/100\n",
            "449/449 [==============================] - 18s 40ms/step - loss: 1.2611 - accuracy: 0.5177 - val_loss: 1.2951 - val_accuracy: 0.5040\n",
            "Epoch 38/100\n",
            "449/449 [==============================] - 18s 40ms/step - loss: 1.2528 - accuracy: 0.5225 - val_loss: 1.2625 - val_accuracy: 0.5155\n",
            "Epoch 39/100\n",
            "449/449 [==============================] - 18s 40ms/step - loss: 1.2374 - accuracy: 0.5280 - val_loss: 1.2523 - val_accuracy: 0.5210\n",
            "Epoch 40/100\n",
            "449/449 [==============================] - 18s 40ms/step - loss: 1.2339 - accuracy: 0.5292 - val_loss: 1.2305 - val_accuracy: 0.5302\n",
            "Epoch 41/100\n",
            "449/449 [==============================] - 18s 40ms/step - loss: 1.2225 - accuracy: 0.5358 - val_loss: 1.2327 - val_accuracy: 0.5213\n",
            "Epoch 42/100\n",
            "449/449 [==============================] - 18s 40ms/step - loss: 1.2113 - accuracy: 0.5397 - val_loss: 1.2351 - val_accuracy: 0.5261\n",
            "Epoch 43/100\n",
            "449/449 [==============================] - 18s 40ms/step - loss: 1.2047 - accuracy: 0.5438 - val_loss: 1.2628 - val_accuracy: 0.5199\n",
            "Epoch 44/100\n",
            "449/449 [==============================] - 18s 40ms/step - loss: 1.1927 - accuracy: 0.5483 - val_loss: 1.2285 - val_accuracy: 0.5241\n",
            "Epoch 45/100\n",
            "449/449 [==============================] - 19s 41ms/step - loss: 1.1862 - accuracy: 0.5522 - val_loss: 1.2134 - val_accuracy: 0.5355\n",
            "Epoch 46/100\n",
            "449/449 [==============================] - 18s 40ms/step - loss: 1.1761 - accuracy: 0.5526 - val_loss: 1.2165 - val_accuracy: 0.5322\n",
            "Epoch 47/100\n",
            "449/449 [==============================] - 18s 41ms/step - loss: 1.1691 - accuracy: 0.5567 - val_loss: 1.2284 - val_accuracy: 0.5313\n",
            "Epoch 48/100\n",
            "449/449 [==============================] - 18s 40ms/step - loss: 1.1634 - accuracy: 0.5583 - val_loss: 1.2060 - val_accuracy: 0.5350\n",
            "Epoch 49/100\n",
            "449/449 [==============================] - 18s 40ms/step - loss: 1.1544 - accuracy: 0.5623 - val_loss: 1.1952 - val_accuracy: 0.5372\n",
            "Epoch 50/100\n",
            "449/449 [==============================] - 18s 40ms/step - loss: 1.1455 - accuracy: 0.5658 - val_loss: 1.2083 - val_accuracy: 0.5316\n",
            "Epoch 51/100\n",
            "449/449 [==============================] - 19s 41ms/step - loss: 1.1380 - accuracy: 0.5697 - val_loss: 1.1968 - val_accuracy: 0.5408\n",
            "Epoch 52/100\n",
            "449/449 [==============================] - 18s 40ms/step - loss: 1.1282 - accuracy: 0.5718 - val_loss: 1.1843 - val_accuracy: 0.5517\n",
            "Epoch 53/100\n",
            "449/449 [==============================] - 18s 40ms/step - loss: 1.1217 - accuracy: 0.5759 - val_loss: 1.1988 - val_accuracy: 0.5506\n",
            "Epoch 54/100\n",
            "449/449 [==============================] - 18s 40ms/step - loss: 1.1153 - accuracy: 0.5768 - val_loss: 1.2042 - val_accuracy: 0.5472\n",
            "Epoch 55/100\n",
            "449/449 [==============================] - 18s 40ms/step - loss: 1.1042 - accuracy: 0.5816 - val_loss: 1.1801 - val_accuracy: 0.5606\n",
            "Epoch 56/100\n",
            "449/449 [==============================] - 18s 40ms/step - loss: 1.0956 - accuracy: 0.5837 - val_loss: 1.1893 - val_accuracy: 0.5500\n",
            "Epoch 57/100\n",
            "449/449 [==============================] - 18s 40ms/step - loss: 1.0851 - accuracy: 0.5856 - val_loss: 1.1893 - val_accuracy: 0.5525\n",
            "Epoch 58/100\n",
            "449/449 [==============================] - 18s 40ms/step - loss: 1.0808 - accuracy: 0.5899 - val_loss: 1.1803 - val_accuracy: 0.5553\n",
            "Epoch 59/100\n",
            "449/449 [==============================] - 18s 40ms/step - loss: 1.0737 - accuracy: 0.5935 - val_loss: 1.1791 - val_accuracy: 0.5500\n",
            "Epoch 60/100\n",
            "449/449 [==============================] - 18s 40ms/step - loss: 1.0658 - accuracy: 0.5963 - val_loss: 1.1714 - val_accuracy: 0.5564\n",
            "Epoch 61/100\n",
            "449/449 [==============================] - 18s 40ms/step - loss: 1.0541 - accuracy: 0.6008 - val_loss: 1.1756 - val_accuracy: 0.5573\n",
            "Epoch 62/100\n",
            "449/449 [==============================] - 18s 40ms/step - loss: 1.0469 - accuracy: 0.6039 - val_loss: 1.1719 - val_accuracy: 0.5606\n",
            "Epoch 63/100\n",
            "449/449 [==============================] - 18s 40ms/step - loss: 1.0398 - accuracy: 0.6086 - val_loss: 1.1589 - val_accuracy: 0.5698\n",
            "Epoch 64/100\n",
            "449/449 [==============================] - 18s 40ms/step - loss: 1.0317 - accuracy: 0.6115 - val_loss: 1.1754 - val_accuracy: 0.5662\n",
            "Epoch 65/100\n",
            "449/449 [==============================] - 18s 40ms/step - loss: 1.0304 - accuracy: 0.6090 - val_loss: 1.1673 - val_accuracy: 0.5620\n",
            "Epoch 66/100\n",
            "449/449 [==============================] - 18s 40ms/step - loss: 1.0115 - accuracy: 0.6205 - val_loss: 1.1810 - val_accuracy: 0.5645\n",
            "Epoch 67/100\n",
            "449/449 [==============================] - 18s 40ms/step - loss: 1.0069 - accuracy: 0.6225 - val_loss: 1.1732 - val_accuracy: 0.5623\n",
            "Epoch 68/100\n",
            "449/449 [==============================] - 18s 40ms/step - loss: 0.9943 - accuracy: 0.6279 - val_loss: 1.1769 - val_accuracy: 0.5687\n",
            "Epoch 69/100\n",
            "449/449 [==============================] - 19s 41ms/step - loss: 0.9905 - accuracy: 0.6250 - val_loss: 1.1920 - val_accuracy: 0.5595\n",
            "Epoch 70/100\n",
            "449/449 [==============================] - 18s 40ms/step - loss: 0.9820 - accuracy: 0.6304 - val_loss: 1.1727 - val_accuracy: 0.5717\n",
            "Epoch 71/100\n",
            "449/449 [==============================] - 18s 40ms/step - loss: 0.9682 - accuracy: 0.6341 - val_loss: 1.1657 - val_accuracy: 0.5731\n",
            "Epoch 72/100\n",
            "449/449 [==============================] - 18s 41ms/step - loss: 0.9601 - accuracy: 0.6385 - val_loss: 1.1869 - val_accuracy: 0.5678\n",
            "Epoch 73/100\n",
            "449/449 [==============================] - 19s 42ms/step - loss: 0.9516 - accuracy: 0.6426 - val_loss: 1.1896 - val_accuracy: 0.5628\n",
            "Epoch 74/100\n",
            "449/449 [==============================] - 18s 40ms/step - loss: 0.9442 - accuracy: 0.6453 - val_loss: 1.1724 - val_accuracy: 0.5698\n",
            "Epoch 75/100\n",
            "449/449 [==============================] - 18s 40ms/step - loss: 0.9290 - accuracy: 0.6527 - val_loss: 1.1701 - val_accuracy: 0.5712\n",
            "Epoch 76/100\n",
            "449/449 [==============================] - 18s 40ms/step - loss: 0.9302 - accuracy: 0.6502 - val_loss: 1.1622 - val_accuracy: 0.5695\n",
            "Epoch 77/100\n",
            "449/449 [==============================] - 18s 40ms/step - loss: 0.9115 - accuracy: 0.6598 - val_loss: 1.1692 - val_accuracy: 0.5734\n",
            "Epoch 78/100\n",
            "449/449 [==============================] - 18s 40ms/step - loss: 0.9057 - accuracy: 0.6608 - val_loss: 1.1801 - val_accuracy: 0.5620\n",
            "Epoch 79/100\n",
            "449/449 [==============================] - 18s 40ms/step - loss: 0.8937 - accuracy: 0.6663 - val_loss: 1.1904 - val_accuracy: 0.5701\n",
            "Epoch 80/100\n",
            "449/449 [==============================] - 19s 41ms/step - loss: 0.8874 - accuracy: 0.6654 - val_loss: 1.1793 - val_accuracy: 0.5684\n",
            "Epoch 81/100\n",
            "449/449 [==============================] - 18s 40ms/step - loss: 0.8761 - accuracy: 0.6714 - val_loss: 1.1814 - val_accuracy: 0.5731\n",
            "Epoch 82/100\n",
            "449/449 [==============================] - 18s 41ms/step - loss: 0.8655 - accuracy: 0.6736 - val_loss: 1.2030 - val_accuracy: 0.5656\n",
            "Epoch 83/100\n",
            "449/449 [==============================] - 19s 41ms/step - loss: 0.8548 - accuracy: 0.6785 - val_loss: 1.2219 - val_accuracy: 0.5670\n",
            "Epoch 84/100\n",
            "449/449 [==============================] - 18s 40ms/step - loss: 0.8457 - accuracy: 0.6834 - val_loss: 1.1848 - val_accuracy: 0.5759\n",
            "Epoch 85/100\n",
            "449/449 [==============================] - 18s 40ms/step - loss: 0.8446 - accuracy: 0.6832 - val_loss: 1.2022 - val_accuracy: 0.5704\n",
            "Epoch 86/100\n",
            "449/449 [==============================] - 19s 41ms/step - loss: 0.8287 - accuracy: 0.6877 - val_loss: 1.2145 - val_accuracy: 0.5709\n",
            "Epoch 87/100\n",
            "449/449 [==============================] - 18s 40ms/step - loss: 0.8176 - accuracy: 0.6915 - val_loss: 1.2233 - val_accuracy: 0.5759\n",
            "Epoch 88/100\n",
            "449/449 [==============================] - 19s 41ms/step - loss: 0.8074 - accuracy: 0.7012 - val_loss: 1.2106 - val_accuracy: 0.5823\n",
            "Epoch 89/100\n",
            "449/449 [==============================] - 19s 41ms/step - loss: 0.7961 - accuracy: 0.7042 - val_loss: 1.2186 - val_accuracy: 0.5754\n",
            "Epoch 90/100\n",
            "449/449 [==============================] - 18s 40ms/step - loss: 0.7842 - accuracy: 0.7063 - val_loss: 1.2158 - val_accuracy: 0.5765\n",
            "Epoch 91/100\n",
            "449/449 [==============================] - 18s 40ms/step - loss: 0.7855 - accuracy: 0.7031 - val_loss: 1.2153 - val_accuracy: 0.5759\n",
            "Epoch 92/100\n",
            "449/449 [==============================] - 18s 40ms/step - loss: 0.7678 - accuracy: 0.7120 - val_loss: 1.2457 - val_accuracy: 0.5748\n",
            "Epoch 93/100\n",
            "449/449 [==============================] - 18s 41ms/step - loss: 0.7510 - accuracy: 0.7211 - val_loss: 1.2261 - val_accuracy: 0.5737\n",
            "Epoch 94/100\n",
            "449/449 [==============================] - 18s 41ms/step - loss: 0.7391 - accuracy: 0.7225 - val_loss: 1.2446 - val_accuracy: 0.5676\n",
            "Epoch 95/100\n",
            "449/449 [==============================] - 18s 40ms/step - loss: 0.7401 - accuracy: 0.7245 - val_loss: 1.2384 - val_accuracy: 0.5709\n",
            "Epoch 96/100\n",
            "449/449 [==============================] - 19s 41ms/step - loss: 0.7250 - accuracy: 0.7303 - val_loss: 1.2659 - val_accuracy: 0.5698\n",
            "Epoch 97/100\n",
            "449/449 [==============================] - 18s 40ms/step - loss: 0.7126 - accuracy: 0.7346 - val_loss: 1.2603 - val_accuracy: 0.5729\n",
            "Epoch 98/100\n",
            "449/449 [==============================] - 19s 41ms/step - loss: 0.7062 - accuracy: 0.7335 - val_loss: 1.2959 - val_accuracy: 0.5662\n",
            "Epoch 99/100\n",
            "449/449 [==============================] - 18s 40ms/step - loss: 0.6906 - accuracy: 0.7433 - val_loss: 1.2869 - val_accuracy: 0.5717\n",
            "Epoch 100/100\n",
            "449/449 [==============================] - 18s 40ms/step - loss: 0.6869 - accuracy: 0.7465 - val_loss: 1.3154 - val_accuracy: 0.5726\n"
          ],
          "name": "stdout"
        }
      ]
    },
    {
      "cell_type": "code",
      "metadata": {
        "colab": {
          "base_uri": "https://localhost:8080/",
          "height": 295
        },
        "id": "foromyjiTqNv",
        "outputId": "7c39791e-b097-4a0a-cec5-4c0c4c68ede7"
      },
      "source": [
        "# summarize history for accuracy\n",
        "plt.plot(history.history['accuracy'])\n",
        "plt.plot(history.history['val_accuracy'])\n",
        "plt.title('model accuracy')\n",
        "plt.ylabel('accuracy')\n",
        "plt.xlabel('epoch')\n",
        "plt.legend(['train', 'test'], loc='upper left')\n",
        "plt.show()"
      ],
      "execution_count": null,
      "outputs": [
        {
          "output_type": "display_data",
          "data": {
            "image/png": "[encoded data removed]",
            "text/plain": [
              "<Figure size 432x288 with 1 Axes>"
            ]
          },
          "metadata": {
            "tags": [],
            "needs_background": "light"
          }
        }
      ]
    },
    {
      "cell_type": "code",
      "metadata": {
        "colab": {
          "base_uri": "https://localhost:8080/",
          "height": 295
        },
        "id": "sY65GKgvZNeC",
        "outputId": "a6f54448-c07c-4837-b00e-212caf2a4aec"
      },
      "source": [
        "plt.plot(history.history['loss'])\n",
        "plt.plot(history.history['val_loss'])\n",
        "plt.title('model loss')\n",
        "plt.ylabel('loss')\n",
        "plt.xlabel('epoch')\n",
        "plt.legend(['train', 'test'], loc='upper left')\n",
        "plt.show()"
      ],
      "execution_count": null,
      "outputs": [
        {
          "output_type": "display_data",
          "data": {
            "image/png": "[encoded data removed]",
            "text/plain": [
              "<Figure size 432x288 with 1 Axes>"
            ]
          },
          "metadata": {
            "tags": [],
            "needs_background": "light"
          }
        }
      ]
    }
  ]
}