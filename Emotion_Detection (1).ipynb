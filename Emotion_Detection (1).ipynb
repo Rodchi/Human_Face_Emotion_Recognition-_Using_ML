{
  "nbformat": 4,
  "nbformat_minor": 0,
  "metadata": {
    "colab": {
      "name": "Emotion Detection.ipynb",
      "provenance": []
    },
    "kernelspec": {
      "name": "python3",
      "display_name": "Python 3"
    },
    "language_info": {
      "name": "python"
    },
    "accelerator": "GPU"
  },
  "cells": [
    {
      "cell_type": "code",
      "metadata": {
        "id": "yFvJsunb937D"
      },
      "source": [
        "import pandas as pd\n",
        "import numpy as np\n",
        "from keras.models import Sequential\n",
        "from keras.layers.core import Flatten,Dense,Dropout\n",
        "from keras.layers.convolutional import Convolution2D,MaxPooling2D,ZeroPadding2D\n",
        "from keras.optimizers import SGD\n",
        "import cv2"
      ],
      "execution_count": null,
      "outputs": []
    },
    {
      "cell_type": "code",
      "metadata": {
        "id": "3Ra1pwZkBOx8"
      },
      "source": [
        "!tar -xf /content/drive/My\\ Drive/fer2013.tar.gz"
      ],
      "execution_count": null,
      "outputs": []
    },
    {
      "cell_type": "code",
      "metadata": {
        "colab": {
          "base_uri": "https://localhost:8080/"
        },
        "id": "MZ5jzIdGAphm",
        "outputId": "4260294b-0d45-4cfc-93ed-e3e9bf347b18"
      },
      "source": [
        "from google.colab import drive\n",
        "drive.mount('/content/drive')\n"
      ],
      "execution_count": null,
      "outputs": [
        {
          "output_type": "stream",
          "text": [
            "Mounted at /content/drive\n"
          ],
          "name": "stdout"
        }
      ]
    },
    {
      "cell_type": "code",
      "metadata": {
        "colab": {
          "base_uri": "https://localhost:8080/"
        },
        "id": "Ae06fRZ5BJd1",
        "outputId": "7fcef71d-48ed-4a6f-b97d-0fe7a5f107fc"
      },
      "source": [
        "#PARAMETERS\n",
        "X_train,train_y,X_test,test_y = [], [], [],[]\n",
        "print(\"ready\")"
      ],
      "execution_count": null,
      "outputs": [
        {
          "output_type": "stream",
          "text": [
            "ready\n"
          ],
          "name": "stdout"
        }
      ]
    },
    {
      "cell_type": "code",
      "metadata": {
        "colab": {
          "base_uri": "https://localhost:8080/"
        },
        "id": "D15bwvZrB9Ol",
        "outputId": "756a632e-8aeb-49b9-c9b1-ca7600b1cd1d"
      },
      "source": [
        "df = pd.read_csv(\"/content/fer2013/fer2013.csv\")\n",
        "print(\"ready\")"
      ],
      "execution_count": null,
      "outputs": [
        {
          "output_type": "stream",
          "text": [
            "ready\n"
          ],
          "name": "stdout"
        }
      ]
    },
    {
      "cell_type": "code",
      "metadata": {
        "colab": {
          "base_uri": "https://localhost:8080/"
        },
        "id": "WrsGT7b-DMjd",
        "outputId": "1ec5d926-078f-42ea-eda3-337b07bfc35d"
      },
      "source": [
        "for index, row in df.iterrows():\n",
        "  val=row['pixels'].split(\" \")\n",
        "  try:\n",
        "    if \"Training\" in row[\"Usage\"]:\n",
        "      X_train.append(np.array(val,\"float32\"))\n",
        "      train_y.append(row[\"emotion\"])\n",
        "    elif \"PublicTest\" in row[\"Usage\"]:\n",
        "        X_test.append(np.array(val,\"float32\"))\n",
        "        test_y.append(row[\"emotion\"])\n",
        "  except:\n",
        "    print(f\"error ocurred at index :{index} and row:{row}\")\n",
        "#X_train.size\n",
        "#print(f\"X train is :{X_train.size} samples\")\n",
        "print(f\"X_Train size is :{len(X_train)}\")\n",
        "print(f\"train_y size is :{len(train_y)}\")\n",
        "print(f\"X_Test size is :{len(X_test)}\")\n",
        "print(f\"test_y size is :{len(test_y)}\")\n",
        "print(\"ready\")"
      ],
      "execution_count": null,
      "outputs": [
        {
          "output_type": "stream",
          "text": [
            "X_Train size is :28709\n",
            "train_y size is :28709\n",
            "X_Test size is :3589\n",
            "test_y size is :3589\n",
            "ready\n"
          ],
          "name": "stdout"
        }
      ]
    },
    {
      "cell_type": "code",
      "metadata": {
        "colab": {
          "base_uri": "https://localhost:8080/"
        },
        "id": "UnNT_T8a9SIv",
        "outputId": "3bb9412a-9692-4703-a470-3b10c9b4d584"
      },
      "source": [
        "num_features=64\n",
        "num_labels=7\n",
        "batch_size =64\n",
        "epochs =50\n",
        "width, heigth = 48,48\n",
        "print(\"ready\")"
      ],
      "execution_count": null,
      "outputs": [
        {
          "output_type": "stream",
          "text": [
            "ready\n"
          ],
          "name": "stdout"
        }
      ]
    },
    {
      "cell_type": "code",
      "metadata": {
        "colab": {
          "base_uri": "https://localhost:8080/"
        },
        "id": "DBjzRDQF9xkC",
        "outputId": "8354e592-e850-45f0-a610-2ba297cf9184"
      },
      "source": [
        "X_train = np.array(X_train, 'float32')\n",
        "train_y = np.array(train_y, 'float32')\n",
        "\n",
        "X_test = np.array(X_test, 'float32')\n",
        "test_y = np.array(test_y, 'float32')\n",
        "print(\"ready\")"
      ],
      "execution_count": null,
      "outputs": [
        {
          "output_type": "stream",
          "text": [
            "ready\n"
          ],
          "name": "stdout"
        }
      ]
    },
    {
      "cell_type": "code",
      "metadata": {
        "id": "ujQJr6Mo95LN"
      },
      "source": [
        "from keras.utils.np_utils import to_categorical"
      ],
      "execution_count": null,
      "outputs": []
    },
    {
      "cell_type": "code",
      "metadata": {
        "colab": {
          "base_uri": "https://localhost:8080/"
        },
        "id": "cw6X2tJd95ID",
        "outputId": "0f31a57e-720d-424f-b552-9d4e4ddac538"
      },
      "source": [
        "train_y = to_categorical(train_y,num_classes=num_labels)\n",
        "test_y = to_categorical(test_y, num_classes=num_labels)\n",
        "print(\"ready\")"
      ],
      "execution_count": null,
      "outputs": [
        {
          "output_type": "stream",
          "text": [
            "ready\n"
          ],
          "name": "stdout"
        }
      ]
    },
    {
      "cell_type": "code",
      "metadata": {
        "colab": {
          "base_uri": "https://localhost:8080/"
        },
        "id": "-zdgDNwE95Cb",
        "outputId": "b2348b82-9f7f-4bc9-de8b-40a5b5f12035"
      },
      "source": [
        "X_train -= np.mean(X_train, axis=0)\n",
        "X_train /= np.std(X_train, axis=0)\n",
        "\n",
        "X_test -= np.mean(X_test, axis=0)\n",
        "X_test /= np.std(X_test, axis=0)\n",
        "\n",
        "X_train = X_train.reshape(X_train.shape[0],48,48,1)\n",
        "\n",
        "X_test = X_test.reshape(X_test.shape[0],48,48,1)\n",
        "\n",
        "print(\"ready\")"
      ],
      "execution_count": null,
      "outputs": [
        {
          "output_type": "stream",
          "text": [
            "ready\n"
          ],
          "name": "stdout"
        }
      ]
    },
    {
      "cell_type": "code",
      "metadata": {
        "colab": {
          "base_uri": "https://localhost:8080/"
        },
        "id": "-cLKV8rA9yZ9",
        "outputId": "a6050d19-7623-4561-e68e-67ce549c8d7a"
      },
      "source": [
        "from tensorflow.keras.layers import Dense,Conv2D,Flatten,Dropout,MaxPooling2D,Activation\n",
        "from tensorflow.keras.preprocessing import image\n",
        "import matplotlib.pyplot as plt\n",
        "from tensorflow.keras.losses import categorical_crossentropy\n",
        "from tensorflow.keras import layers\n",
        "from tensorflow import keras\n",
        "print(\"ready\")\n"
      ],
      "execution_count": null,
      "outputs": [
        {
          "output_type": "stream",
          "text": [
            "ready\n"
          ],
          "name": "stdout"
        }
      ]
    },
    {
      "cell_type": "code",
      "metadata": {
        "colab": {
          "base_uri": "https://localhost:8080/"
        },
        "id": "1FDyL-P49yM9",
        "outputId": "b2882cd1-386e-4bf1-958b-daa3f2fc59af"
      },
      "source": [
        "model = Sequential()\n",
        "model.add(Conv2D(64, kernel_size=(3,3), activation='relu',input_shape=(X_train.shape[1:])))\n",
        "model.add(Conv2D(64,kernel_size=(3,3), activation='relu'))\n",
        "model.add(MaxPooling2D(pool_size=(2,2),strides=(2,2)))\n",
        "model.add(Dropout(0.5))\n",
        "\n",
        "#2nd convolution layer+\n",
        "model.add(Conv2D(64,kernel_size=(3,3), activation='relu'))\n",
        "model.add(Conv2D(64,kernel_size=(3,3), activation='relu'))\n",
        "\n",
        "model.add(MaxPooling2D(pool_size=(2,2),strides=(2,2)))\n",
        "model.add(Dropout(0.5))\n",
        "\n",
        "\n",
        "\n",
        "#3rd convolution layer\n",
        "model.add(Conv2D(128,kernel_size=(3,3), activation='relu'))\n",
        "model.add(Conv2D(128,kernel_size=(3,3), activation='relu'))\n",
        "model.add(MaxPooling2D(pool_size=(2,2),strides=(2,2)))\n",
        "\n",
        "model.add(Flatten())\n",
        "\n",
        "#fully connected neural network\n",
        "\n",
        "model.add(Dense(1024,activation='relu'))\n",
        "model.add(Dropout(0.2))\n",
        "model.add(Dense(1024,activation='relu'))\n",
        "model.add(Dropout(0.2))\n",
        "\n",
        "model.add(Dense(num_labels,activation=\"softmax\"))\n",
        "\n",
        "#model.summary()\n",
        "print(\"ready\")\n"
      ],
      "execution_count": null,
      "outputs": [
        {
          "output_type": "stream",
          "text": [
            "ready\n"
          ],
          "name": "stdout"
        }
      ]
    },
    {
      "cell_type": "code",
      "metadata": {
        "id": "G3N3EyC39yKF"
      },
      "source": [
        "model.compile(loss=categorical_crossentropy,\n",
        "              optimizer ='sgd',\n",
        "              metrics=['accuracy'])"
      ],
      "execution_count": null,
      "outputs": []
    },
    {
      "cell_type": "code",
      "metadata": {
        "id": "uaha5kL_J6xZ"
      },
      "source": [
        ""
      ],
      "execution_count": null,
      "outputs": []
    },
    {
      "cell_type": "code",
      "metadata": {
        "colab": {
          "base_uri": "https://localhost:8080/"
        },
        "id": "6z6QN6eVGoNC",
        "outputId": "c5d99130-5485-4de7-8ee8-804ee714d45c"
      },
      "source": [
        "model.fit(X_train,train_y,\n",
        "          batch_size=batch_size,\n",
        "          epochs=epochs,\n",
        "          verbose=1,\n",
        "          validation_data=(X_test,test_y),\n",
        "          shuffle=True)"
      ],
      "execution_count": null,
      "outputs": [
        {
          "output_type": "stream",
          "text": [
            "Epoch 1/50\n",
            "449/449 [==============================] - 18s 41ms/step - loss: 0.7182 - accuracy: 0.7321 - val_loss: 1.2334 - val_accuracy: 0.5851\n",
            "Epoch 2/50\n",
            "449/449 [==============================] - 18s 41ms/step - loss: 0.7114 - accuracy: 0.7361 - val_loss: 1.2884 - val_accuracy: 0.5726\n",
            "Epoch 3/50\n",
            "449/449 [==============================] - 18s 41ms/step - loss: 0.7108 - accuracy: 0.7324 - val_loss: 1.2308 - val_accuracy: 0.5882\n",
            "Epoch 4/50\n",
            "449/449 [==============================] - 19s 42ms/step - loss: 0.6911 - accuracy: 0.7419 - val_loss: 1.2565 - val_accuracy: 0.5935\n",
            "Epoch 5/50\n",
            "449/449 [==============================] - 18s 41ms/step - loss: 0.6846 - accuracy: 0.7444 - val_loss: 1.2739 - val_accuracy: 0.5899\n",
            "Epoch 6/50\n",
            "449/449 [==============================] - 18s 41ms/step - loss: 0.6771 - accuracy: 0.7490 - val_loss: 1.2545 - val_accuracy: 0.5899\n",
            "Epoch 7/50\n",
            "449/449 [==============================] - 19s 42ms/step - loss: 0.6727 - accuracy: 0.7485 - val_loss: 1.2963 - val_accuracy: 0.5857\n",
            "Epoch 8/50\n",
            "449/449 [==============================] - 18s 40ms/step - loss: 0.6629 - accuracy: 0.7524 - val_loss: 1.2709 - val_accuracy: 0.5954\n",
            "Epoch 9/50\n",
            "449/449 [==============================] - 18s 40ms/step - loss: 0.6473 - accuracy: 0.7592 - val_loss: 1.2821 - val_accuracy: 0.5968\n",
            "Epoch 10/50\n",
            "449/449 [==============================] - 18s 41ms/step - loss: 0.6454 - accuracy: 0.7584 - val_loss: 1.2725 - val_accuracy: 0.5938\n",
            "Epoch 11/50\n",
            "449/449 [==============================] - 19s 42ms/step - loss: 0.6299 - accuracy: 0.7669 - val_loss: 1.2738 - val_accuracy: 0.5991\n",
            "Epoch 12/50\n",
            "449/449 [==============================] - 18s 41ms/step - loss: 0.6233 - accuracy: 0.7691 - val_loss: 1.2791 - val_accuracy: 0.6002\n",
            "Epoch 13/50\n",
            "449/449 [==============================] - 19s 42ms/step - loss: 0.6133 - accuracy: 0.7721 - val_loss: 1.2991 - val_accuracy: 0.5949\n",
            "Epoch 14/50\n",
            "449/449 [==============================] - 19s 42ms/step - loss: 0.6049 - accuracy: 0.7737 - val_loss: 1.3500 - val_accuracy: 0.5913\n",
            "Epoch 15/50\n",
            "449/449 [==============================] - 18s 40ms/step - loss: 0.5992 - accuracy: 0.7769 - val_loss: 1.3152 - val_accuracy: 0.5974\n",
            "Epoch 16/50\n",
            "449/449 [==============================] - 18s 41ms/step - loss: 0.5877 - accuracy: 0.7805 - val_loss: 1.3503 - val_accuracy: 0.5821\n",
            "Epoch 17/50\n",
            "449/449 [==============================] - 18s 41ms/step - loss: 0.5777 - accuracy: 0.7852 - val_loss: 1.3192 - val_accuracy: 0.6024\n",
            "Epoch 18/50\n",
            "449/449 [==============================] - 18s 41ms/step - loss: 0.5713 - accuracy: 0.7877 - val_loss: 1.3442 - val_accuracy: 0.5963\n",
            "Epoch 19/50\n",
            "449/449 [==============================] - 19s 42ms/step - loss: 0.5642 - accuracy: 0.7907 - val_loss: 1.3756 - val_accuracy: 0.5851\n",
            "Epoch 20/50\n",
            "449/449 [==============================] - 19s 42ms/step - loss: 0.5547 - accuracy: 0.7939 - val_loss: 1.3921 - val_accuracy: 0.5924\n",
            "Epoch 21/50\n",
            "449/449 [==============================] - 19s 42ms/step - loss: 0.5491 - accuracy: 0.7970 - val_loss: 1.3544 - val_accuracy: 0.5935\n",
            "Epoch 22/50\n",
            "449/449 [==============================] - 18s 41ms/step - loss: 0.5370 - accuracy: 0.8013 - val_loss: 1.3521 - val_accuracy: 0.5896\n",
            "Epoch 23/50\n",
            "449/449 [==============================] - 18s 40ms/step - loss: 0.5265 - accuracy: 0.8059 - val_loss: 1.3738 - val_accuracy: 0.5879\n",
            "Epoch 24/50\n",
            "449/449 [==============================] - 18s 40ms/step - loss: 0.5234 - accuracy: 0.8065 - val_loss: 1.4850 - val_accuracy: 0.5840\n",
            "Epoch 25/50\n",
            "449/449 [==============================] - 18s 41ms/step - loss: 0.5173 - accuracy: 0.8075 - val_loss: 1.3912 - val_accuracy: 0.5896\n",
            "Epoch 26/50\n",
            "449/449 [==============================] - 18s 41ms/step - loss: 0.5024 - accuracy: 0.8159 - val_loss: 1.3960 - val_accuracy: 0.5971\n",
            "Epoch 27/50\n",
            "449/449 [==============================] - 18s 40ms/step - loss: 0.5026 - accuracy: 0.8125 - val_loss: 1.4214 - val_accuracy: 0.5932\n",
            "Epoch 28/50\n",
            "449/449 [==============================] - 18s 40ms/step - loss: 0.4927 - accuracy: 0.8170 - val_loss: 1.4354 - val_accuracy: 0.5932\n",
            "Epoch 29/50\n",
            "449/449 [==============================] - 18s 40ms/step - loss: 0.4851 - accuracy: 0.8223 - val_loss: 1.4363 - val_accuracy: 0.5946\n",
            "Epoch 30/50\n",
            "449/449 [==============================] - 18s 40ms/step - loss: 0.4771 - accuracy: 0.8249 - val_loss: 1.4327 - val_accuracy: 0.5851\n",
            "Epoch 31/50\n",
            "449/449 [==============================] - 18s 41ms/step - loss: 0.4680 - accuracy: 0.8288 - val_loss: 1.4598 - val_accuracy: 0.5879\n",
            "Epoch 32/50\n",
            "449/449 [==============================] - 18s 41ms/step - loss: 0.4658 - accuracy: 0.8294 - val_loss: 1.4541 - val_accuracy: 0.5910\n",
            "Epoch 33/50\n",
            "449/449 [==============================] - 18s 40ms/step - loss: 0.4554 - accuracy: 0.8347 - val_loss: 1.4583 - val_accuracy: 0.5896\n",
            "Epoch 34/50\n",
            "449/449 [==============================] - 18s 41ms/step - loss: 0.4491 - accuracy: 0.8320 - val_loss: 1.4476 - val_accuracy: 0.5954\n",
            "Epoch 35/50\n",
            "449/449 [==============================] - 18s 40ms/step - loss: 0.4454 - accuracy: 0.8366 - val_loss: 1.5036 - val_accuracy: 0.5977\n",
            "Epoch 36/50\n",
            "449/449 [==============================] - 18s 41ms/step - loss: 0.4355 - accuracy: 0.8397 - val_loss: 1.4791 - val_accuracy: 0.5907\n",
            "Epoch 37/50\n",
            "449/449 [==============================] - 19s 42ms/step - loss: 0.4299 - accuracy: 0.8417 - val_loss: 1.4843 - val_accuracy: 0.5971\n",
            "Epoch 38/50\n",
            "449/449 [==============================] - 18s 41ms/step - loss: 0.4255 - accuracy: 0.8429 - val_loss: 1.4821 - val_accuracy: 0.5915\n",
            "Epoch 39/50\n",
            "449/449 [==============================] - 18s 40ms/step - loss: 0.4229 - accuracy: 0.8456 - val_loss: 1.5342 - val_accuracy: 0.5938\n",
            "Epoch 40/50\n",
            "449/449 [==============================] - 18s 41ms/step - loss: 0.4125 - accuracy: 0.8498 - val_loss: 1.5097 - val_accuracy: 0.5954\n",
            "Epoch 41/50\n",
            "449/449 [==============================] - 18s 41ms/step - loss: 0.4128 - accuracy: 0.8481 - val_loss: 1.5410 - val_accuracy: 0.5890\n",
            "Epoch 42/50\n",
            "449/449 [==============================] - 18s 41ms/step - loss: 0.3937 - accuracy: 0.8557 - val_loss: 1.6342 - val_accuracy: 0.5871\n",
            "Epoch 43/50\n",
            "449/449 [==============================] - 19s 42ms/step - loss: 0.3905 - accuracy: 0.8580 - val_loss: 1.5952 - val_accuracy: 0.5929\n",
            "Epoch 44/50\n",
            "449/449 [==============================] - 18s 41ms/step - loss: 0.3887 - accuracy: 0.8585 - val_loss: 1.5701 - val_accuracy: 0.5834\n",
            "Epoch 45/50\n",
            "449/449 [==============================] - 18s 41ms/step - loss: 0.3903 - accuracy: 0.8568 - val_loss: 1.5563 - val_accuracy: 0.5957\n",
            "Epoch 46/50\n",
            "449/449 [==============================] - 18s 41ms/step - loss: 0.3808 - accuracy: 0.8604 - val_loss: 1.5721 - val_accuracy: 0.5910\n",
            "Epoch 47/50\n",
            "449/449 [==============================] - 18s 41ms/step - loss: 0.3797 - accuracy: 0.8635 - val_loss: 1.5547 - val_accuracy: 0.5985\n",
            "Epoch 48/50\n",
            "449/449 [==============================] - 19s 42ms/step - loss: 0.3753 - accuracy: 0.8640 - val_loss: 1.5832 - val_accuracy: 0.5932\n",
            "Epoch 49/50\n",
            "449/449 [==============================] - 19s 42ms/step - loss: 0.3601 - accuracy: 0.8670 - val_loss: 1.5869 - val_accuracy: 0.6049\n",
            "Epoch 50/50\n",
            "449/449 [==============================] - 18s 41ms/step - loss: 0.3545 - accuracy: 0.8709 - val_loss: 1.6489 - val_accuracy: 0.5865\n"
          ],
          "name": "stdout"
        },
        {
          "output_type": "execute_result",
          "data": {
            "text/plain": [
              "<keras.callbacks.History at 0x7f5d744f24d0>"
            ]
          },
          "metadata": {
            "tags": []
          },
          "execution_count": 18
        }
      ]
    }
  ]
}